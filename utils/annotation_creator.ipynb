{
 "cells": [
  {
   "cell_type": "markdown",
   "metadata": {},
   "source": [
    "<ol>\n",
    "    <li>run <pre> python xmlToJson.py (change input folder and output destination)</pre> to convert xml annotations to json</li>\n",
    "</ol>"
   ]
  },
  {
   "cell_type": "code",
   "execution_count": 1,
   "metadata": {},
   "outputs": [],
   "source": [
    "import os\n",
    "import numpy as np\n",
    "from random import shuffle\n",
    "import matplotlib.pyplot as plt\n",
    "import scipy.misc\n",
    "import json\n",
    "import random\n",
    "from PIL import Image"
   ]
  },
  {
   "cell_type": "code",
   "execution_count": 2,
   "metadata": {},
   "outputs": [
    {
     "name": "stdout",
     "output_type": "stream",
     "text": [
      "4939\n"
     ]
    }
   ],
   "source": [
    "all_images = []\n",
    "img_path = 'D:/diplomovka_data/data/all_data'\n",
    "\n",
    "for r, d, f in os.walk(img_path):\n",
    "    for file in f:\n",
    "        if file.endswith('.jpg'):\n",
    "            folder = r.split('\\\\')[1]\n",
    "            all_images.append(os.path.join(folder, file))\n",
    "print(len(all_images))"
   ]
  },
  {
   "cell_type": "code",
   "execution_count": 3,
   "metadata": {},
   "outputs": [],
   "source": [
    "json_file = './out.json'\n",
    "with open('out.json') as anno_file:\n",
    "    anno = json.load(anno_file)"
   ]
  },
  {
   "cell_type": "code",
   "execution_count": 4,
   "metadata": {},
   "outputs": [
    {
     "name": "stdout",
     "output_type": "stream",
     "text": [
      "1399\n",
      "1465\n"
     ]
    }
   ],
   "source": [
    "image_paths = {}\n",
    "\n",
    "for im in anno['images']:\n",
    "    if im['id'] in image_paths:\n",
    "        print('duplicita')\n",
    "    image_paths[im['file_name'].replace('.xml', '.jpg')] = im['id']\n",
    "    \n",
    "image_annotations = {}\n",
    "for a in anno['annotations']:\n",
    "    im_id = a['image_id']\n",
    "    if im_id not in image_annotations:\n",
    "        image_annotations[im_id] = {}\n",
    "    image_annotations[im_id][a['category_id']]= a['bbox']\n",
    "print(len(image_annotations))\n",
    "print(len(image_paths))"
   ]
  },
  {
   "cell_type": "code",
   "execution_count": 27,
   "metadata": {},
   "outputs": [
    {
     "data": {
      "text/plain": [
       "27"
      ]
     },
     "execution_count": 27,
     "metadata": {},
     "output_type": "execute_result"
    }
   ],
   "source": [
    "round(len(patient_folders) * 0.8)"
   ]
  },
  {
   "cell_type": "code",
   "execution_count": 30,
   "metadata": {},
   "outputs": [
    {
     "name": "stdout",
     "output_type": "stream",
     "text": [
      "{'5', 'test-5', '23', '1', '9', 'test-1', '33', '8', '26', '24', '11', 'test-4', '25', '16', '18', '3', '6', 'test-2', '22', '21', '28', '12', '7', '2', '19', '20', '13'} {'27', '10', '4', '17', '15', '14', 'test-3'}\n"
     ]
    }
   ],
   "source": [
    "shuffle_patient_images = False\n",
    "if not shuffle_patient_images:\n",
    "    patient_folders = np.array(list(set([path.split('\\\\')[0] for path in list(image_paths.keys())])))\n",
    "    np.random.shuffle(patient_folders)\n",
    "    split = round(len(patient_folders) * 0.8)\n",
    "    train_patients = set(patient_folders[:split])\n",
    "    test_patients = set(patient_folders[split:])\n",
    "    print(train_patients, test_patients)"
   ]
  },
  {
   "cell_type": "code",
   "execution_count": 31,
   "metadata": {},
   "outputs": [
    {
     "name": "stdout",
     "output_type": "stream",
     "text": [
      "{'train': 3320, 'val': 831, 'test': 788}\n"
     ]
    }
   ],
   "source": [
    "noot = []\n",
    "annots = []\n",
    "sets = {'train': 0, 'val': 0, 'test': 0}\n",
    "\n",
    "for imgPath in all_images:\n",
    "    d = dict()\n",
    "    d['img_paths'] = imgPath\n",
    "    d['dataset'] = 'lala'\n",
    "    \n",
    "    if shuffle_patient_images: \n",
    "        if np.random.rand() > 0.2:\n",
    "            if np.random.rand() > 0.2:\n",
    "                d['set'] = 'train'\n",
    "                sets['train'] += 1\n",
    "            else:\n",
    "                d['set'] = 'val'\n",
    "                sets['val'] += 1\n",
    "        else:\n",
    "            d['set'] = 'test' \n",
    "            sets['test'] += 1\n",
    "    else:\n",
    "        patient_folder =  imgPath.split('\\\\')[0]\n",
    "        if patient_folder in train_patients:\n",
    "            if np.random.rand() > 0.2:\n",
    "                d['set'] = 'train'\n",
    "                sets['train'] += 1\n",
    "            else:\n",
    "                d['set'] = 'val'\n",
    "                sets['val'] += 1\n",
    "        else:\n",
    "            d['set'] = 'test' \n",
    "            sets['test'] += 1\n",
    "            \n",
    "    d['img_width'] = 512\n",
    "    d['img_height'] = 512\n",
    "    d['objpos'] = [512/2, 512/2]\n",
    "    d['img_height'] = 512\n",
    "    d['obj_locations'] = []\n",
    "    left_kidney_bl,left_kidney_ur,right_kidney_bl,right_kidney_ur = [0,0,0],[0,0,0],[0,0,0],[0,0,0]\n",
    "    if imgPath in image_paths: #with annotation\n",
    "        id = image_paths[imgPath]\n",
    "        if id in image_annotations:\n",
    "            for category, bbx in image_annotations[id].items():\n",
    "                if category == 1:\n",
    "                    left_kidney_bl[0] = bbx[0]\n",
    "                    left_kidney_bl[1] = bbx[1]\n",
    "                    left_kidney_ur[0] = bbx[0]+ bbx[2]\n",
    "                    left_kidney_ur[1] = bbx[1]+bbx[3]\n",
    "                    left_kidney_bl[2] = 1\n",
    "                    left_kidney_ur[2] = 1\n",
    "                if category == 2:\n",
    "                    right_kidney_bl[0] = bbx[0]\n",
    "                    right_kidney_bl[1] = bbx[1]\n",
    "                    right_kidney_ur[0] = bbx[0]+ bbx[2]\n",
    "                    right_kidney_ur[1] = bbx[1]+bbx[3]\n",
    "                    right_kidney_bl[2] = 1\n",
    "                    right_kidney_ur[2] = 1\n",
    "        else:\n",
    "            noot.append(id)\n",
    "    d['obj_locations'].extend([left_kidney_bl, left_kidney_ur, right_kidney_bl, right_kidney_ur])\n",
    "    d['scale_provided'] = 2\n",
    "    annots.append(d)\n",
    "print(sets)"
   ]
  },
  {
   "cell_type": "code",
   "execution_count": 33,
   "metadata": {},
   "outputs": [
    {
     "data": {
      "text/plain": [
       "4939"
      ]
     },
     "execution_count": 33,
     "metadata": {},
     "output_type": "execute_result"
    }
   ],
   "source": [
    "3320+831+788"
   ]
  },
  {
   "cell_type": "code",
   "execution_count": 32,
   "metadata": {},
   "outputs": [],
   "source": [
    "j = json.dumps(annots)\n",
    "with open('converted_out.json', 'w') as outfile:\n",
    "    json.dump(j, outfile)"
   ]
  },
  {
   "cell_type": "code",
   "execution_count": null,
   "metadata": {},
   "outputs": [],
   "source": []
  }
 ],
 "metadata": {
  "kernelspec": {
   "display_name": "Python 3",
   "language": "python",
   "name": "python3"
  },
  "language_info": {
   "codemirror_mode": {
    "name": "ipython",
    "version": 3
   },
   "file_extension": ".py",
   "mimetype": "text/x-python",
   "name": "python",
   "nbconvert_exporter": "python",
   "pygments_lexer": "ipython3",
   "version": "3.6.8"
  }
 },
 "nbformat": 4,
 "nbformat_minor": 2
}
