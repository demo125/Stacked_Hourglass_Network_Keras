{
 "cells": [
  {
   "cell_type": "code",
   "execution_count": 103,
   "metadata": {},
   "outputs": [],
   "source": [
    "import json\n",
    "import pickle\n",
    "import os\n",
    "import numpy as np\n",
    "import matplotlib.pyplot as plt"
   ]
  },
  {
   "cell_type": "code",
   "execution_count": 135,
   "metadata": {
    "code_folding": []
   },
   "outputs": [],
   "source": [
    "def get_iou(true, pred):\n",
    "    x11, y11, x12, y12 = true[0][0], true[0][1], true[1][0], true[1][1]\n",
    "    x21, y21, x22, y22 = pred[0][0], pred[0][1], pred[1][0], pred[1][1]\n",
    "    xA = np.maximum(x11, np.transpose(x21))\n",
    "    yA = np.maximum(y11, np.transpose(y21))\n",
    "    xB = np.minimum(x12, np.transpose(x22))\n",
    "    yB = np.minimum(y12, np.transpose(y22))\n",
    "    interArea = np.maximum((xB - xA + 1), 0) * np.maximum((yB - yA + 1), 0)\n",
    "    boxAArea = (x12 - x11 + 1) * (y12 - y11 + 1)\n",
    "    boxBArea = (x22 - x21 + 1) * (y22 - y21 + 1)\n",
    "    iou = interArea / (boxAArea + np.transpose(boxBArea) - interArea)\n",
    "    return iou\n",
    "\n",
    "def evaluate(annotationPath, predictionPath, confidence_threshold, iou_threshold=0.5, onlyWithKidneys=False):\n",
    "    with open(annotationPath) as anno_file:\n",
    "        annots = json.loads(json.load(anno_file))\n",
    "\n",
    "    with open(predictionPath, 'rb') as handle:\n",
    "        predictions = pickle.load(handle, encoding=\"bytes\")\n",
    "    \n",
    "    for p in predictions:\n",
    "        predictionsStr[p.decode(\"utf-8\") ] = predictions[p]\n",
    "        \n",
    "    print(len(predictions), len(predictionsStr))\n",
    "    \n",
    "    results = {\"iou\": {}, 'mp': {}}\n",
    "    for setType in [\"train\", \"val\", \"test\"]:\n",
    "        ious = []\n",
    "        true_positives = 0\n",
    "        false_positives = 0\n",
    "        \n",
    "        for i, annot in enumerate(annots):\n",
    "            if annot['set'] == setType:\n",
    "                path = os.path.join('../../data/mpii/images/', annot['img_paths'].replace('\\\\', '/'))\n",
    "                leftKidneyTrue = [annot['obj_locations'][0][:2], annot['obj_locations'][1][:2]]\n",
    "                rightKidneyTrue = [annot['obj_locations'][2][:2], annot['obj_locations'][3][:2]]\n",
    "                \n",
    "                \n",
    "                    \n",
    "                prediction = predictionsStr[path]\n",
    "\n",
    "                leftKidneyConfidence = min(prediction[0][2], prediction[1][2])\n",
    "                rightKidneyConfidence = min(prediction[2][2], prediction[3][2])\n",
    "\n",
    "                leftKidneyPred = [[0,0], [0,0]]\n",
    "                rightKidneyPred = [[0,0], [0,0]]\n",
    "                if leftKidneyConfidence > confidence_threshold:\n",
    "                    leftKidneyPred = [prediction[0][:2], prediction[1][:2]]\n",
    "                if rightKidneyConfidence > confidence_threshold:\n",
    "                    rightKidneyPred = [prediction[2][:2], prediction[3][:2]]\n",
    "                    \n",
    "                if onlyWithKidneys and np.sum([leftKidneyTrue]) == 0: \n",
    "                    iou = get_iou(leftKidneyTrue, leftKidneyPred)\n",
    "                    ious.append(iou)\n",
    "                    if iou > iou_threshold: true_positives += 1 \n",
    "                    else: false_positives += 1\n",
    "                \n",
    "                if onlyWithKidneys and np.sum([rightKidneyTrue]) == 0:\n",
    "                    iou = get_iou(rightKidneyTrue, rightKidneyPred)\n",
    "                    ious.append(iou)\n",
    "                    if iou > iou_threshold: true_positives += 1 \n",
    "                    else: false_positives += 1\n",
    "                    \n",
    "        results['iou'][setType] = np.mean(ious)\n",
    "        results['mp'][setType] = true_positives/(true_positives + false_positives)\n",
    "    return results\n",
    "    "
   ]
  },
  {
   "cell_type": "code",
   "execution_count": 153,
   "metadata": {},
   "outputs": [
    {
     "name": "stdout",
     "output_type": "stream",
     "text": [
      "4939 4939\n",
      "4939 4939\n",
      "4939 4939\n",
      "4939 4939\n",
      "{'shuffledPatientsAug': {'iou': {'train': 0.8973265537791701, 'val': 0.9052380204302776, 'test': 0.8900307881411613}, 'mp': {'train': 0.9493094789704959, 'val': 0.9502617801047121, 'test': 0.9459049544994944}}, 'selectedPatientsAug': {'iou': {'train': 0.8388461084015314, 'val': 0.8548038884135727, 'test': 0.8247084915696635}, 'mp': {'train': 0.8743279569892473, 'val': 0.8914473684210527, 'test': 0.8458021612635079}}, 'shuffledPatientsNoAug': {'iou': {'train': 0.7706432559831332, 'val': 0.7908048524502533, 'test': 0.7516547931259535}, 'mp': {'train': 0.7749529190207156, 'val': 0.7945026178010471, 'test': 0.756319514661274}}, 'selectedPatientsNoAug': {'iou': {'train': 0.8758664638411691, 'val': 0.8800476777338804, 'test': 0.8617820439188927}, 'mp': {'train': 0.9230510752688172, 'val': 0.925, 'test': 0.8944305901911886}}}\n"
     ]
    }
   ],
   "source": [
    "confidence_threshold = 0.5\n",
    "iou_threshold = 0.5\n",
    "onlyWithKidneys = False\n",
    "\n",
    "results = {'shuffledPatientsAug': [],'selectedPatientsAug': [], 'shuffledPatientsNoAug': [], 'selectedPatientsNoAug':[]}\n",
    "for trainType in results.keys():\n",
    "    result = evaluate(os.path.join('..\\src\\models', trainType, 'mpii_annotations.json'),\n",
    "             os.path.join('..\\src\\models', trainType, 'predictions.pickle'),\n",
    "            confidence_threshold=confidence_threshold,\n",
    "            iou_threshold=iou_threshold,\n",
    "            onlyWithKidneys=onlyWithKidneys)\n",
    "    results[trainType] = result\n",
    "print(results)"
   ]
  },
  {
   "cell_type": "code",
   "execution_count": 154,
   "metadata": {},
   "outputs": [
    {
     "name": "stdout",
     "output_type": "stream",
     "text": [
      "0.8900307881411613\n"
     ]
    },
    {
     "data": {
      "image/png": "[encoded data removed]",
      "text/plain": [
       "<Figure size 1080x360 with 1 Axes>"
      ]
     },
     "metadata": {
      "needs_background": "light"
     },
     "output_type": "display_data"
    },
    {
     "name": "stdout",
     "output_type": "stream",
     "text": [
      "0.9459049544994944\n"
     ]
    },
    {
     "data": {
      "image/png": "[encoded data removed]",
      "text/plain": [
       "<Figure size 1080x360 with 1 Axes>"
      ]
     },
     "metadata": {
      "needs_background": "light"
     },
     "output_type": "display_data"
    }
   ],
   "source": [
    "barWidth = 0.25\n",
    "\n",
    "colors = ['#7f6d5f', '#557f2d', '#2d7f5e']\n",
    "for metrics in ['iou', 'mp']:\n",
    "    plt.figure(figsize=(15, 5))\n",
    "    maxx = 0\n",
    "    for i, setType in enumerate(['train','val', 'test']):\n",
    "        r = np.arange(len(results.keys())) + barWidth*i\n",
    "        y = []\n",
    "        for trainType in results.keys():\n",
    "            y.append(results[trainType][metrics][setType])\n",
    "            if setType == 'test':\n",
    "                maxx = max(max(y), maxx)\n",
    "        plt.bar(r, y, color=colors[i], width=barWidth, edgecolor='white', label=setType)\n",
    "    \n",
    "    plt.title(metrics)\n",
    "    plt.xticks([r + barWidth for r in range(len(setType))], results.keys())\n",
    "    plt.hlines(maxx, xmin=-10, xmax=10, color='silver')\n",
    "    print(maxx)\n",
    "    plt.xlim(-0.5, 4)\n",
    "    plt.ylim(0,1)\n",
    "    plt.legend()\n",
    "    plt.show()\n",
    "\n"
   ]
  }
 ],
 "metadata": {
  "kernelspec": {
   "display_name": "Python 3",
   "language": "python",
   "name": "python3"
  },
  "language_info": {
   "codemirror_mode": {
    "name": "ipython",
    "version": 3
   },
   "file_extension": ".py",
   "mimetype": "text/x-python",
   "name": "python",
   "nbconvert_exporter": "python",
   "pygments_lexer": "ipython3",
   "version": "3.6.8"
  }
 },
 "nbformat": 4,
 "nbformat_minor": 2
}
